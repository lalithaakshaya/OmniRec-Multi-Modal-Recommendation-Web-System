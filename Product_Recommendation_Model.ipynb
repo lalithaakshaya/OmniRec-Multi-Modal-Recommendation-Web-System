{
 "cells": [
  {
   "cell_type": "code",
   "execution_count": 1,
   "id": "12d37fdc",
   "metadata": {},
   "outputs": [],
   "source": [
    "# !pip install scikit-learn"
   ]
  },
  {
   "cell_type": "code",
   "execution_count": 2,
   "id": "181b2d64",
   "metadata": {},
   "outputs": [],
   "source": [
    "# conda install pytorch"
   ]
  },
  {
   "cell_type": "code",
   "execution_count": 3,
   "id": "af125949",
   "metadata": {},
   "outputs": [],
   "source": [
    "# pip install sentence-transformers"
   ]
  },
  {
   "cell_type": "code",
   "execution_count": 4,
   "id": "fc05ece2",
   "metadata": {},
   "outputs": [],
   "source": [
    "from sentence_transformers import SentenceTransformer\n",
    "from sklearn.metrics.pairwise import cosine_similarity\n",
    "import pandas as pd\n",
    "import torch"
   ]
  },
  {
   "cell_type": "code",
   "execution_count": 5,
   "id": "4c715eb2",
   "metadata": {},
   "outputs": [],
   "source": [
    "# Set pandas display option to take entire length of data\n",
    "#to take the entire product link into pandas\n",
    "pd.set_option('display.max_colwidth', None)"
   ]
  },
  {
   "cell_type": "code",
   "execution_count": 6,
   "id": "e76a56e6",
   "metadata": {},
   "outputs": [],
   "source": [
    "#loading the dataset\n",
    "df = pd.read_csv('flipkartData.csv')"
   ]
  },
  {
   "cell_type": "code",
   "execution_count": 7,
   "id": "3014189a",
   "metadata": {},
   "outputs": [],
   "source": [
    "# Preprocessing\n",
    "\n",
    "#removing null values\n",
    "df = df.dropna(subset=['description', 'product_name'])\n",
    "\n",
    "#combining description and product name to consider both attributes as inputs for the model\n",
    "df['content'] = df['description'] + df['product_name']\n"
   ]
  },
  {
   "cell_type": "code",
   "execution_count": 8,
   "id": "5118bd52",
   "metadata": {},
   "outputs": [],
   "source": [
    "# Use SentenceTransformer to generate embeddings\n",
    "# miniLM\n",
    "model = SentenceTransformer('all-MiniLM-L6-v2')\n",
    "embeddings = model.encode(df['content'].tolist(), convert_to_tensor=False)"
   ]
  },
  {
   "cell_type": "code",
   "execution_count": null,
   "id": "fdf32972",
   "metadata": {},
   "outputs": [],
   "source": [
    "\n",
    "# #Bert model\n",
    "# model = SentenceTransformer('bert-base-nli-mean-tokens')\n",
    "# embeddings = model.encode(df['content'].tolist(), convert_to_tensor=False)"
   ]
  },
  {
   "cell_type": "code",
   "execution_count": 9,
   "id": "02b7a787",
   "metadata": {},
   "outputs": [],
   "source": [
    "# Compute the cosine similarity matrix\n",
    "cosine_sim = cosine_similarity(embeddings)"
   ]
  },
  {
   "cell_type": "code",
   "execution_count": 13,
   "id": "83fc4d46",
   "metadata": {},
   "outputs": [],
   "source": [
    "# Function to get the most similar products\n",
    "\n",
    "#To print only recommended product URL\n",
    "def get_recommendations(user_input, cosine_sim=cosine_sim):\n",
    "    user_input_embedding = model.encode([user_input], convert_to_tensor=False)\n",
    "    cosine_sim_input = cosine_similarity(user_input_embedding, embeddings)\n",
    "    sim_scores = list(enumerate(cosine_sim_input[0]))\n",
    "    sim_scores = sorted(sim_scores, key=lambda x: x[1], reverse=True)\n",
    "    sim_scores = sim_scores[0:10]\n",
    "    product_indices = [i[0] for i in sim_scores]\n",
    "    return df['product_url'].iloc[product_indices]"
   ]
  },
  {
   "cell_type": "code",
   "execution_count": null,
   "id": "3b58cf79",
   "metadata": {},
   "outputs": [],
   "source": [
    "# Function to get the most similar products\n",
    "\n",
    "#To print the Id, Name and URL of recommended product\n",
    "# def get_recommendations(user_input, cosine_sim=cosine_sim):\n",
    "#     user_input_embedding = model.encode([user_input], convert_to_tensor=False)\n",
    "#     cosine_sim_input = cosine_similarity(user_input_embedding, embeddings)\n",
    "#     sim_scores = list(enumerate(cosine_sim_input[0]))\n",
    "#     sim_scores = sorted(sim_scores, key=lambda x: x[1], reverse=True)\n",
    "#     sim_scores = sim_scores[0:10]\n",
    "#     product_indices = [i[0] for i in sim_scores]\n",
    "#     return df[['uniq_id', 'product_name', 'product_url']].iloc[product_indices]"
   ]
  },
  {
   "cell_type": "code",
   "execution_count": 14,
   "id": "adbe99a9",
   "metadata": {},
   "outputs": [
    {
     "name": "stdout",
     "output_type": "stream",
     "text": [
      "                                uniq_id  \\\n",
      "11943  d3c1d508756f01039612cf9231a43f50   \n",
      "5011   b458e88a229a07f58101642f69e4efd2   \n",
      "4798   799ddb97164ff2d5d53bb8b27b8c355f   \n",
      "4740   c67996e048444c5375c6967cc542d17a   \n",
      "838    0d6275400501db4bf31ff562f88246ce   \n",
      "3088   1d17a13801b8aa2a6662e6a6cf4aaa07   \n",
      "10761  2ea7e891d16986f5ac5c85b222778c02   \n",
      "3408   65287a2fa47f38b3fe81a77360ddf878   \n",
      "842    f0938b0d88eac91deee6d5add54097d3   \n",
      "18842  491caada535cdeb446cd45d4ebb97e31   \n",
      "\n",
      "                                                                                                                                                  product_name  \\\n",
      "11943                                                                                                                      Ethnikali Party Woven Women's Kurti   \n",
      "5011   Indian Art Villa 2.1\" X 6.0\" X 2.0\" Handmade High Quality Stainless Steel Copper Dish Serving Indian Food Daal Curry Karahi Kadai Wok Bowl Kadhai 0.5 L   \n",
      "4798   Indian Art Villa 2.3\" X 6.9\" X 2.3\" Handmade High Quality Stainless Steel Copper Dish Serving Indian Food Daal Curry Karahi Kadai Wok Bowl Kadhai 0.7 L   \n",
      "4740                                                                                         Seema's Craft Creation Shubh - Laabh: Ganesha Showpiece  -  15 cm   \n",
      "838                                                                                        Myesquire Ceramic Coffee Burner Pot Lemongrass Liquid Air Freshener   \n",
      "3088                                                          Exotic India Lord Ganesha Playing Flute (Carved in Sunstone) Showpiece  -  6.8580000000000005 cm   \n",
      "10761                                                                                         Galexy Fashion Self Design Girl's Lehenga, Choli and Dupatta Set   \n",
      "3408                                                                                                                       Pinellii Lettie Handcrafted Loafers   \n",
      "842                                                                                               Myesquire Ceramic Burner Pot Lemongrass Liquid Air Freshener   \n",
      "18842                                                                                                  Great Art Printed Girl's Lehenga, Choli and Dupatta Set   \n",
      "\n",
      "                                                                                                                                                                                                       product_url  \n",
      "11943                                                                                                          http://www.flipkart.com/ethnikali-party-woven-women-s-kurti/p/itmea22fpwxqk3pb?pid=KRTEA22FC4WUWPPQ  \n",
      "5011   http://www.flipkart.com/indian-art-villa-2-1-x-6-0-2-0-handmade-high-quality-stainless-steel-copper-dish-serving-food-daal-curry-karahi-kadai-wok-bowl-kadhai-0-5-l/p/itmeatf8ek9kfhjc?pid=PTPEATF85YZDHTZS  \n",
      "4798       http://www.flipkart.com/indian-art-villa-2-3-x-6-9-handmade-high-quality-stainless-steel-copper-dish-serving-food-daal-curry-karahi-kadai-wok-bowl-kadhai-0-7-l/p/itmeatf8fkyduahh?pid=PTPEATF8HNUX8SGY  \n",
      "4740                                                                                    http://www.flipkart.com/seema-s-craft-creation-shubh-laabh-ganesha-showpiece-15-cm/p/itmecjzez7sfzrct?pid=SHIECJZEGBAHYG5N  \n",
      "838                                                                            http://www.flipkart.com/myesquire-ceramic-coffee-burner-pot-lemongrass-liquid-air-freshener/p/itmedjcgfwum8pez?pid=AIREDJCGZN2HKZHJ  \n",
      "3088                                                       http://www.flipkart.com/exotic-india-lord-ganesha-playing-flute-carved-sunstone-showpiece-6-8580000000000005-cm/p/itme3qdhrw93pnzj?pid=SHIE3QDHP5RDGMZY  \n",
      "10761                                                                                  http://www.flipkart.com/galexy-fashion-self-design-girl-s-lehenga-choli-dupatta-set/p/itmeg5cdjyhzytsy?pid=LCHEG5CDZWHZEUWQ  \n",
      "3408                                                                                                           http://www.flipkart.com/pinellii-lettie-handcrafted-loafers/p/itmebghjayahm4ej?pid=SHOEBGHJZB2UKFC4  \n",
      "842                                                                                   http://www.flipkart.com/myesquire-ceramic-burner-pot-lemongrass-liquid-air-freshener/p/itmedjgyd3pdmfcf?pid=AIREDJGYAHPBXTZS  \n",
      "18842                                                                                           http://www.flipkart.com/great-art-printed-girl-s-lehenga-choli-dupatta-set/p/itmegwktgghvxcbm?pid=LCHEGWKTFZNHYU2H  \n"
     ]
    }
   ],
   "source": [
    "# Test the function\n",
    "print(get_recommendations('lingirie'))"
   ]
  },
  {
   "cell_type": "code",
   "execution_count": null,
   "id": "64d63fd2",
   "metadata": {},
   "outputs": [],
   "source": []
  }
 ],
 "metadata": {
  "kernelspec": {
   "display_name": "Python 3 (ipykernel)",
   "language": "python",
   "name": "python3"
  },
  "language_info": {
   "codemirror_mode": {
    "name": "ipython",
    "version": 3
   },
   "file_extension": ".py",
   "mimetype": "text/x-python",
   "name": "python",
   "nbconvert_exporter": "python",
   "pygments_lexer": "ipython3",
   "version": "3.11.3"
  }
 },
 "nbformat": 4,
 "nbformat_minor": 5
}
